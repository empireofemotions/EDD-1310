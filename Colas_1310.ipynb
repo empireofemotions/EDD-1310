{
  "nbformat": 4,
  "nbformat_minor": 0,
  "metadata": {
    "colab": {
      "name": "Colas_1310.ipynb",
      "provenance": [],
      "authorship_tag": "ABX9TyMY6zWHT0lG7Vpa41SUULhZ",
      "include_colab_link": true
    },
    "kernelspec": {
      "name": "python3",
      "display_name": "Python 3"
    },
    "language_info": {
      "name": "python"
    }
  },
  "cells": [
    {
      "cell_type": "markdown",
      "metadata": {
        "id": "view-in-github",
        "colab_type": "text"
      },
      "source": [
        "<a href=\"https://colab.research.google.com/github/empireofemotions/EDD-1310/blob/main/Colas_1310.ipynb\" target=\"_parent\"><img src=\"https://colab.research.google.com/assets/colab-badge.svg\" alt=\"Open In Colab\"/></a>"
      ]
    },
    {
      "cell_type": "code",
      "metadata": {
        "id": "I0SOvAEtKApc"
      },
      "source": [
        "class Queue:\n",
        "    def __init__(self):\n",
        "        self.data = []\n",
        "\n",
        "    def is_empty(self):\n",
        "        return len(self.data) == 0\n",
        "    \n",
        "    def length(self):\n",
        "        return len(self.data)\n",
        "\n",
        "    def enqueue(self, value):\n",
        "        self.data.append(value)\n",
        "    \n",
        "    def dequeue(self):\n",
        "        return self.data.pop(0)\n",
        "\n",
        "    def to_string(self):\n",
        "        for elem in self.data:\n",
        "            print(f\"|{elem}| <-- \", end=\"\")\n",
        "        print(\"\")"
      ],
      "execution_count": 15,
      "outputs": []
    },
    {
      "cell_type": "code",
      "metadata": {
        "colab": {
          "base_uri": "https://localhost:8080/"
        },
        "id": "uqAVk2ReNpYk",
        "outputId": "86d67238-b6f7-404c-8e3d-fb296d903d6c"
      },
      "source": [
        "cola = Queue()\n",
        "print(\"Esta vacio?\", cola.is_empty())\n",
        "print(\"Numero de elementos: \", cola.length())\n",
        "cola.enqueue(10)\n",
        "cola.enqueue(20)\n",
        "cola.enqueue(30)\n",
        "print(\"Esta vacio?\", cola.is_empty())\n",
        "print(\"Numero de elementos: \", cola.length())\n",
        "cola.enqueue(40)\n",
        "cola.enqueue(50)\n",
        "cola.enqueue(60)\n",
        "cola.to_string()\n",
        "siguiente = cola.dequeue()\n",
        "print(\"Atendiendo a:\", siguiente)\n",
        "cola.to_string()"
      ],
      "execution_count": 16,
      "outputs": [
        {
          "output_type": "stream",
          "name": "stdout",
          "text": [
            "Esta vacio? True\n",
            "Numero de elementos:  0\n",
            "Esta vacio? False\n",
            "Numero de elementos:  3\n",
            "|10| <-- |20| <-- |30| <-- |40| <-- |50| <-- |60| <-- \n",
            "Atendiendo a: 10\n",
            "|20| <-- |30| <-- |40| <-- |50| <-- |60| <-- \n"
          ]
        }
      ]
    },
    {
      "cell_type": "markdown",
      "metadata": {
        "id": "ZSmByByeQjEI"
      },
      "source": [
        "#Variantes del ADT Cola\n",
        "1. Circulares\n",
        "2. Prioridad\n",
        "    1. Acotada\n",
        "    2. No acotada"
      ]
    }
  ]
}