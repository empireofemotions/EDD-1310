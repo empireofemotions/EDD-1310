{
  "nbformat": 4,
  "nbformat_minor": 0,
  "metadata": {
    "colab": {
      "name": "Cuestionario1.ipynb",
      "provenance": [],
      "authorship_tag": "ABX9TyOOurHKTVstjn0MjKmvl/bv",
      "include_colab_link": true
    },
    "kernelspec": {
      "name": "python3",
      "display_name": "Python 3"
    },
    "language_info": {
      "name": "python"
    }
  },
  "cells": [
    {
      "cell_type": "markdown",
      "metadata": {
        "id": "view-in-github",
        "colab_type": "text"
      },
      "source": [
        "<a href=\"https://colab.research.google.com/github/empireofemotions/EDD-1310/blob/main/Cuestionario1.ipynb\" target=\"_parent\"><img src=\"https://colab.research.google.com/assets/colab-badge.svg\" alt=\"Open In Colab\"/></a>"
      ]
    },
    {
      "cell_type": "code",
      "metadata": {
        "id": "KKSpLQ2xzJrY"
      },
      "source": [
        "class Persona:\n",
        "  def __init__(self, n, e, est):\n",
        "    self.__nombre = n\n",
        "    self.__edad = e\n",
        "    self.__estatura = est\n",
        "\n",
        "  def to_string(self):\n",
        "    return \"Nombre: \" + self.__nombre + \" Edad: \" + str(self.__edad) + \" Estatura: \" + str(self.__estatura)\n",
        "\n",
        "  def set_estatura(self, nueva_est):\n",
        "    if nueva_est > 0.10 and nueva_est < 2.5 :\n",
        "      self.__estatura = nueva_est\n",
        "    else: \n",
        "      print(\"Error: Esa estatura no es posible\")\n",
        "\n",
        "  def get_estatura(self):\n",
        "    return self.__estatura"
      ],
      "execution_count": 8,
      "outputs": []
    },
    {
      "cell_type": "code",
      "metadata": {
        "colab": {
          "base_uri": "https://localhost:8080/"
        },
        "id": "d4Ur3qqczLDA",
        "outputId": "c9943ecb-b68a-4741-efa6-0018ddfc9bff"
      },
      "source": [
        "per = Persona(\"Jose\", 19, 1.70)\n",
        "print(per.to_string())\n",
        "\n",
        "# Encapsulamiento\n",
        "\n",
        "per.nombre = \"Pedro\" #ESTO NO SE RECOMIENDA\n",
        "print(per.to_string())\n",
        "\n",
        "# per.estatura = 3.9\n",
        "per.set_estatura(1.9)\n",
        "print(per.to_string())\n",
        "\n",
        "print(\"Estatura:\", end=\"\")\n",
        "# print (per.__estatura)\n",
        "print(per.get_estatura())"
      ],
      "execution_count": 9,
      "outputs": [
        {
          "output_type": "stream",
          "name": "stdout",
          "text": [
            "Nombre: Jose Edad: 19 Estatura: 1.7\n",
            "Nombre: Jose Edad: 19 Estatura: 1.7\n",
            "Nombre: Jose Edad: 19 Estatura: 1.9\n",
            "Estatura:1.9\n"
          ]
        }
      ]
    },
    {
      "cell_type": "code",
      "metadata": {
        "id": "rzUF8kGjzPSG"
      },
      "source": [
        "class Estudiante(Persona):\n",
        "  def __init__(self, nc, nombre, edad, est):\n",
        "    self.__num_cta = nc\n",
        "    super().__init__(nombre, edad, est)\n",
        "\n",
        "  def to_string(self):\n",
        "    return super().to_string() + \"Numero de cta.:\" + self.__num_cta"
      ],
      "execution_count": 12,
      "outputs": []
    },
    {
      "cell_type": "code",
      "metadata": {
        "colab": {
          "base_uri": "https://localhost:8080/"
        },
        "id": "isjjJu63zTJn",
        "outputId": "7d47de8f-85e0-4fa3-f6f7-2cf17f61733e"
      },
      "source": [
        "est = Estudiante (\"318082651\", \"José\", 18, 1.7,)\n",
        "print(est.to_string())"
      ],
      "execution_count": 13,
      "outputs": [
        {
          "output_type": "stream",
          "name": "stdout",
          "text": [
            "Nombre: José Edad: 18 Estatura: 1.7Numero de cta.:318082651\n"
          ]
        }
      ]
    }
  ]
}