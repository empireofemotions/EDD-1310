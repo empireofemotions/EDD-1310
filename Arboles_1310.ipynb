{
  "nbformat": 4,
  "nbformat_minor": 0,
  "metadata": {
    "colab": {
      "name": "Arboles_1310.ipynb",
      "provenance": [],
      "collapsed_sections": [],
      "authorship_tag": "ABX9TyOlXM8MkIS/Ylr10dOCz7Fm",
      "include_colab_link": true
    },
    "kernelspec": {
      "name": "python3",
      "display_name": "Python 3"
    },
    "language_info": {
      "name": "python"
    }
  },
  "cells": [
    {
      "cell_type": "markdown",
      "metadata": {
        "id": "view-in-github",
        "colab_type": "text"
      },
      "source": [
        "<a href=\"https://colab.research.google.com/github/empireofemotions/EDD-1310/blob/main/Arboles_1310.ipynb\" target=\"_parent\"><img src=\"https://colab.research.google.com/assets/colab-badge.svg\" alt=\"Open In Colab\"/></a>"
      ]
    },
    {
      "cell_type": "code",
      "metadata": {
        "id": "QT5Rm5W3COXy"
      },
      "source": [
        "class NodoBinario:\n",
        "    def __init__(self, value, left=None, right=None):\n",
        "        self.data = value\n",
        "        self.left = left\n",
        "        self.right = right\n",
        "\n",
        "class NodoTernario:\n",
        "    def __init__(self, value, left=None, center=None, right=None):\n",
        "        self.data = value\n",
        "        self.left = left\n",
        "        self.center = center\n",
        "        self.right = right\n",
        "\n"
      ],
      "execution_count": 1,
      "outputs": []
    },
    {
      "cell_type": "code",
      "metadata": {
        "colab": {
          "base_uri": "https://localhost:8080/"
        },
        "id": "XPAEJ4cfD3Lk",
        "outputId": "3024bccb-cd13-4b79-d82f-dfc4a2a80187"
      },
      "source": [
        "arbol1 = NodoBinario(\"R\", NodoBinario(\"C\"), NodoBinario(\"H\"))\n",
        "print(arbol1.right.data)\n",
        "\n",
        "arbol2 = NodoTernario(4, NodoTernario(3, NodoTernario(5, left=NodoTernario(2)), NodoTernario(5), NodoTernario(2)), None, NodoTernario(5))\n",
        "print(arbol2.left.right.data)\n",
        "print(arbol2.left.center.data)\n",
        "print(arbol2.left.left.left.data)\n",
        "print(\"--------\")\n",
        "ejemplo = arbol2.left.left.left.data\n",
        "print(ejemplo)\n",
        "print(\"--------\")\n",
        "aux = arbol2\n",
        "while (aux.left != None):\n",
        "    aux = aux.left\n",
        "print(aux.data)"
      ],
      "execution_count": 2,
      "outputs": [
        {
          "output_type": "stream",
          "name": "stdout",
          "text": [
            "H\n",
            "2\n",
            "5\n",
            "2\n",
            "--------\n",
            "2\n",
            "--------\n",
            "2\n"
          ]
        }
      ]
    },
    {
      "cell_type": "code",
      "metadata": {
        "colab": {
          "base_uri": "https://localhost:8080/"
        },
        "id": "u-z1Rm32HLkG",
        "outputId": "9f92ce3f-a581-462b-80b5-24e757eacfbe"
      },
      "source": [
        "#arbol3 = NodoBinario(\"Santi\", None, NodoBinario(\"Jesús\", NodoBinario(\"Pedro\", None, \"Pedro Jr.\"), None))\n",
        "root = NodoBinario(\"Santi\",None,NodoBinario(\"Jesus\",NodoBinario(\"Pedro\",None,NodoBinario(\" jr\"))))\n",
        "\n",
        "print(root.right.left.right.data)"
      ],
      "execution_count": 3,
      "outputs": [
        {
          "output_type": "stream",
          "name": "stdout",
          "text": [
            " jr\n"
          ]
        }
      ]
    },
    {
      "cell_type": "code",
      "metadata": {
        "id": "SE64LYXs6sL3"
      },
      "source": [
        "class BinaryNode:\n",
        "    def __init__(self, value, left=None, right=None):\n",
        "        self.data = value\n",
        "        self.left = left\n",
        "        self.right = right\n",
        "\n",
        "class BinarySearchTree:\n",
        "    def __init__(self):\n",
        "        self.root = None\n",
        "\n",
        "    def insert (self, value):\n",
        "        if self.root == None:\n",
        "            self.root = BinaryNode(value)\n",
        "        else:\n",
        "            self.__insert_nodo(self.root, value)\n",
        "\n",
        "    def __insert_nodo(self, nodo, value):\n",
        "        if nodo.data == value:\n",
        "            pass\n",
        "        elif value < nodo.data:\n",
        "            if nodo.left == None:\n",
        "                nodo.left = BinaryNode(value)\n",
        "            else:\n",
        "                self.__insert_nodo(nodo.left, value)\n",
        "        else: #ir a la derecha\n",
        "            if nodo.right == None:\n",
        "                nodo.right = BinaryNode(value)\n",
        "            else:\n",
        "                self.__insert_nodo(nodo.right, value)\n",
        "\n",
        "    def transversal(self, formato = \"postorden\"):\n",
        "        if formato == \"postorden\":\n",
        "            self.recorrido_post(self.root)\n",
        "        elif formato == \"preorden\":\n",
        "            self.recorrido_pre(self.root)\n",
        "        else: #inorden\n",
        "            self.recorrido_in(self.root)\n",
        "        print()\n",
        "\n",
        "\n",
        "    def recorrido_post(self, nodo):\n",
        "        if nodo != None:\n",
        "            self.recorrido_post(nodo.left)\n",
        "            self.recorrido_post(nodo.right)\n",
        "            print(str(nodo.data), end=\" , \")\n",
        "\n",
        "    def recorrido_pre(self, nodo):\n",
        "        if nodo != None:\n",
        "            print(str(nodo.data), end=\" , \")\n",
        "            self.recorrido_pre(nodo.left)\n",
        "            self.recorrido_pre(nodo.right)\n",
        "            \n",
        "\n",
        "    def recorrido_in(self, nodo):\n",
        "        if nodo != None:\n",
        "            self.recorrido_in(nodo.left)\n",
        "            print(str(nodo.data), end=\" , \")\n",
        "            self.recorrido_in(nodo.right)\n",
        "            \n",
        "    def search(self, value):\n",
        "        if self.root == None:\n",
        "            print(\"El árbol está vacío\")\n",
        "            return None\n",
        "        else:\n",
        "            self.__search(self.root, value)\n",
        "\n",
        "    def __search(self, nodo, value):\n",
        "        if nodo.data == None:\n",
        "            print(\"El dato no existe en el árbol\")\n",
        "            return None\n",
        "        elif nodo.data == value:\n",
        "            print(\"Encontrado\")\n",
        "            return nodo\n",
        "        elif value < nodo.data:\n",
        "            return self.__buscar(nodo.left, value)\n",
        "        else:\n",
        "            return self.__buscar(nodo.right, value)"
      ],
      "execution_count": 21,
      "outputs": []
    },
    {
      "cell_type": "code",
      "metadata": {
        "colab": {
          "base_uri": "https://localhost:8080/"
        },
        "id": "oFVi5TUi_z0F",
        "outputId": "800aa84e-e6c9-4ee7-d9da-3bc871b91926"
      },
      "source": [
        "arb1 = BinarySearchTree()\n",
        "arb1.insert(60)\n",
        "arb1.insert(30)\n",
        "arb1.insert(15)\n",
        "arb1.insert(40)\n",
        "arb1.transversal(\"postorden\")\n",
        "arb1.transversal(\"preorden\")\n",
        "arb1.transversal(\"inorden\")"
      ],
      "execution_count": 20,
      "outputs": [
        {
          "output_type": "stream",
          "name": "stdout",
          "text": [
            "15 , 40 , 30 , 60 , \n",
            "60 , 30 , 15 , 40 , \n",
            "15 , 30 , 40 , 60 , \n"
          ]
        }
      ]
    }
  ]
}