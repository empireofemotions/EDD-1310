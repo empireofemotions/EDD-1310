{
  "nbformat": 4,
  "nbformat_minor": 0,
  "metadata": {
    "colab": {
      "name": "ArraysADT_EDD1310.ipynb",
      "provenance": [],
      "authorship_tag": "ABX9TyP61yvaGKZiHvW5zGIcVH5h",
      "include_colab_link": true
    },
    "kernelspec": {
      "name": "python3",
      "display_name": "Python 3"
    },
    "language_info": {
      "name": "python"
    }
  },
  "cells": [
    {
      "cell_type": "markdown",
      "metadata": {
        "id": "view-in-github",
        "colab_type": "text"
      },
      "source": [
        "<a href=\"https://colab.research.google.com/github/empireofemotions/EDD-1310/blob/main/ArraysADT_EDD1310.ipynb\" target=\"_parent\"><img src=\"https://colab.research.google.com/assets/colab-badge.svg\" alt=\"Open In Colab\"/></a>"
      ]
    },
    {
      "cell_type": "code",
      "metadata": {
        "colab": {
          "base_uri": "https://localhost:8080/"
        },
        "id": "vaZKgWC8foFL",
        "outputId": "55226231-eb88-4e03-e2c9-eef88416e8d2"
      },
      "source": [
        "class Array:\n",
        "  def __init__(self, tam): #tam es el tamaño\n",
        "    self.__tamanio = tam\n",
        "    self.__data = [0 for x in range(self.__tamanio)] #generador\n",
        "\n",
        "  def to_string (self):\n",
        "    info = \"\"\n",
        "    for dato in self.__data:\n",
        "      info = info + str(dato) + \"|\"\n",
        "    return info\n",
        "\n",
        "  def get_item(self, index):\n",
        "    return self.__data[index]\n",
        "\n",
        "  def get_length(self):\n",
        "    return len(self.__data)\n",
        "\n",
        "  def set_item(self, dato, index):\n",
        "    # Hace falta revisar limites\n",
        "    if index >= 0 and index < self.get_length():\n",
        "      self.__data[index] = dato\n",
        "    else:\n",
        "      print(\"Error: Índice fuera de rango\")\n",
        "\n",
        "  def clear(self, dato):\n",
        "    self.__data = [dato for x in range(self.__tamanio)]\n",
        "\n",
        "\n",
        "\n",
        "ejemplo = Array(20)\n",
        "print(ejemplo.to_string())\n",
        "print(ejemplo.get_item(2))\n",
        "ejemplo.set_item(45, 2)\n",
        "print(ejemplo.to_string())\n",
        "ejemplo.clear(4)\n",
        "print(ejemplo.to_string())"
      ],
      "execution_count": 9,
      "outputs": [
        {
          "output_type": "stream",
          "name": "stdout",
          "text": [
            "0|0|0|0|0|0|0|0|0|0|0|0|0|0|0|0|0|0|0|0|\n",
            "0\n",
            "0|0|45|0|0|0|0|0|0|0|0|0|0|0|0|0|0|0|0|0|\n",
            "4|4|4|4|4|4|4|4|4|4|4|4|4|4|4|4|4|4|4|4|\n"
          ]
        }
      ]
    },
    {
      "cell_type": "code",
      "metadata": {
        "colab": {
          "base_uri": "https://localhost:8080/"
        },
        "id": "ynAhpJBWgdG0",
        "outputId": "d13b6c92-fd48-42b8-b71c-1ddf885ca93f"
      },
      "source": [
        "lista = [ 3*x for x in range(5)]\n",
        "print (lista)"
      ],
      "execution_count": 3,
      "outputs": [
        {
          "output_type": "stream",
          "name": "stdout",
          "text": [
            "[0, 3, 6, 9, 12]\n"
          ]
        }
      ]
    }
  ]
}