{
  "nbformat": 4,
  "nbformat_minor": 0,
  "metadata": {
    "colab": {
      "name": "Pilas_1310.ipynb",
      "provenance": [],
      "authorship_tag": "ABX9TyPUy7dIuDv66fvXn52wBxbX",
      "include_colab_link": true
    },
    "kernelspec": {
      "name": "python3",
      "display_name": "Python 3"
    },
    "language_info": {
      "name": "python"
    }
  },
  "cells": [
    {
      "cell_type": "markdown",
      "metadata": {
        "id": "view-in-github",
        "colab_type": "text"
      },
      "source": [
        "<a href=\"https://colab.research.google.com/github/empireofemotions/EDD-1310/blob/main/Pilas_1310.ipynb\" target=\"_parent\"><img src=\"https://colab.research.google.com/assets/colab-badge.svg\" alt=\"Open In Colab\"/></a>"
      ]
    },
    {
      "cell_type": "code",
      "metadata": {
        "id": "llmV0byPMtnj"
      },
      "source": [
        "class StackADT:\n",
        "    def __init__ (self):\n",
        "        self.__data = list()\n",
        "    \n",
        "    #regresa true si la pila está vacía\n",
        "    def is_empty(self): \n",
        "        return len(self.__data) == 0\n",
        "        \n",
        "    def get_length(self):\n",
        "        return len(self.__data)\n",
        "\n",
        "    def pop(self):\n",
        "        if self.is_empty():\n",
        "            print(\"Pila vacía, nada que sacar :/\")\n",
        "        else:\n",
        "            return self.__data.pop()\n",
        "\n",
        "    def peek(self):\n",
        "        if self.is_empty():\n",
        "            print(\"Pila vacía, nada que mostrar :/\")\n",
        "        else:\n",
        "            return self.__data[-1]\n",
        "\n",
        "    def push(self, value):\n",
        "        self.__data.append(value)\n",
        "\n",
        "    def to_string(self):\n",
        "        for item in self.__data[::-1]:\n",
        "            print(f\"| {item} |\")\n"
      ],
      "execution_count": 1,
      "outputs": []
    },
    {
      "cell_type": "code",
      "metadata": {
        "colab": {
          "base_uri": "https://localhost:8080/"
        },
        "id": "JDtPWFaBQflN",
        "outputId": "a88c350a-9c43-4804-8632-e6622b9ec966"
      },
      "source": [
        "pila = StackADT()\n",
        "print(\"Esta vacía? \", pila.is_empty())\n",
        "print(\"# Elementos: \", pila.get_length())\n",
        "pila.push(10)\n",
        "print(\"Esta vacía? \", pila.is_empty())\n",
        "print(\"# Elementos: \", pila.get_length())\n",
        "pila.push(20)\n",
        "pila.push(30)\n",
        "pila.push(40)\n",
        "pila.to_string()\n",
        "print(pila.pop()) #40\n",
        "print(pila.peek()) #30\n",
        "pila.to_string()"
      ],
      "execution_count": 2,
      "outputs": [
        {
          "output_type": "stream",
          "name": "stdout",
          "text": [
            "Esta vacía?  True\n",
            "# Elementos:  0\n",
            "Esta vacía?  False\n",
            "# Elementos:  1\n",
            "| 40 |\n",
            "| 30 |\n",
            "| 20 |\n",
            "| 10 |\n",
            "40\n",
            "30\n",
            "| 30 |\n",
            "| 20 |\n",
            "| 10 |\n"
          ]
        }
      ]
    },
    {
      "cell_type": "code",
      "metadata": {
        "colab": {
          "base_uri": "https://localhost:8080/"
        },
        "id": "mwJfhG1JzPxd",
        "outputId": "7052ab2f-cc86-4606-dafc-6758e2413ef6"
      },
      "source": [
        "!cat prog.txt"
      ],
      "execution_count": 3,
      "outputs": [
        {
          "output_type": "stream",
          "name": "stdout",
          "text": [
            "#include <stdio.h>\r\n",
            "int main()\r\n",
            "{\r\n",
            "    int num, count, sum = 0;\r\n",
            "\r\n",
            "    printf(\"Enter a positive integer: \");\r\n",
            "    scanf(\"%d\", &num);\r\n",
            "\r\n",
            "    // for loop terminates when num is less than count\r\n",
            "    for(count = 1; count <= num; ++count)\r\n",
            "    {\r\n",
            "        sum += count;\r\n",
            "    }\r\n",
            "\r\n",
            "    printf(\"Sum = %d\", sum);\r\n",
            "\r\n",
            "    return 0;\r\n",
            "}"
          ]
        }
      ]
    },
    {
      "cell_type": "code",
      "metadata": {
        "colab": {
          "base_uri": "https://localhost:8080/"
        },
        "id": "oi9Vwue9zyAX",
        "outputId": "1809cfda-e9e5-41cc-c455-a22ac38836a0"
      },
      "source": [
        "entrada = open('prog.txt', 'rt')\n",
        "codigo = entrada.read()\n",
        "#print(codigo)\n",
        "pilaControl = StackADT()\n",
        "pilaControl.push(\"#\") #caracter de fila vacia\n",
        "\n",
        "for letra in codigo:\n",
        "    # print(f\"--> {letra} <--\")\n",
        "    if letra == '{': #regla 1\n",
        "        pilaControl.push(\"{\")\n",
        "    elif letra =='}': #regla 2\n",
        "        basura = pilaControl.pop()\n",
        "    else:\n",
        "        pass\n",
        "\n",
        "#Nota: Este código aún no contempla desbalanceo\n",
        "if pilaControl.peek() == '#':\n",
        "    print(\"El código proporcionado está balanceado\")\n",
        "else:\n",
        "    print(\"El código no está balanceado en llaves { y }\")"
      ],
      "execution_count": 10,
      "outputs": [
        {
          "output_type": "stream",
          "name": "stdout",
          "text": [
            "El código no está balanceado en llaves { y }\n"
          ]
        }
      ]
    },
    {
      "cell_type": "markdown",
      "metadata": {
        "id": "-V7L5CVt7K0N"
      },
      "source": [
        "#Aplicación de pilas\n",
        "##Estrategia de diseño de algoritmos BACKTRACKING"
      ]
    }
  ]
}